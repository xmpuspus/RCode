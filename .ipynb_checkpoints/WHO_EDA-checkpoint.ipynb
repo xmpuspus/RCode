{
 "cells": [
  {
   "cell_type": "markdown",
   "metadata": {},
   "source": [
    "# WHO Dataset"
   ]
  },
  {
   "cell_type": "markdown",
   "metadata": {},
   "source": [
    "Find out:  \n",
    "   - Country with the biggest population,\n",
    "   - Population of Malaysia,\n",
    "   - Country with the lowest literacy,\n",
    "   - Richest country in Europe based on GNI,\n",
    "   - Mean life expetancy of countries in Africa,\n",
    "   - Number of countries with population greater than 10,000,\n",
    "   - Top 5 countries in the Americas with the highest child mortality."
   ]
  },
  {
   "cell_type": "code",
   "execution_count": 9,
   "metadata": {},
   "outputs": [],
   "source": [
    "# install.packages(c('repr', 'IRdisplay', 'evaluate', 'crayon', 'pbdZMQ', 'devtools', 'uuid', 'digest'))"
   ]
  },
  {
   "cell_type": "code",
   "execution_count": null,
   "metadata": {},
   "outputs": [],
   "source": [
    "# install.packages(c('tidyverse', 'stringr', 'dtplyr', 'knitr', 'data.table'))\n",
    "# install.packages('shiny')"
   ]
  },
  {
   "cell_type": "code",
   "execution_count": 1,
   "metadata": {},
   "outputs": [
    {
     "name": "stderr",
     "output_type": "stream",
     "text": [
      "── Attaching packages ─────────────────────────────────────── tidyverse 1.2.1 ──\n",
      "✔ ggplot2 3.0.0     ✔ purrr   0.2.5\n",
      "✔ tibble  1.4.2     ✔ dplyr   0.7.7\n",
      "✔ tidyr   0.8.1     ✔ stringr 1.3.1\n",
      "✔ readr   1.1.1     ✔ forcats 0.3.0\n",
      "── Conflicts ────────────────────────────────────────── tidyverse_conflicts() ──\n",
      "✖ dplyr::filter() masks stats::filter()\n",
      "✖ dplyr::lag()    masks stats::lag()\n",
      "\n",
      "Attaching package: ‘data.table’\n",
      "\n",
      "The following objects are masked from ‘package:dplyr’:\n",
      "\n",
      "    between, first, last\n",
      "\n",
      "The following object is masked from ‘package:purrr’:\n",
      "\n",
      "    transpose\n",
      "\n"
     ]
    }
   ],
   "source": [
    "library(tidyverse)\n",
    "library(stringr)\n",
    "library(dtplyr)\n",
    "library(knitr)\n",
    "library(data.table)\n",
    "library(ggplot2)\n",
    "library(shiny)"
   ]
  },
  {
   "cell_type": "code",
   "execution_count": 2,
   "metadata": {},
   "outputs": [
    {
     "data": {
      "text/html": [
       "<table>\n",
       "<thead><tr><th scope=col>Country</th><th scope=col>Region</th><th scope=col>Population</th><th scope=col>Under15</th><th scope=col>Over60</th><th scope=col>FertilityRate</th><th scope=col>LifeExpectancy</th><th scope=col>ChildMortality</th><th scope=col>CellularSubscribers</th><th scope=col>LiteracyRate</th><th scope=col>GNI</th><th scope=col>PrimarySchoolEnrollmentMale</th><th scope=col>PrimarySchoolEnrollmentFemale</th></tr></thead>\n",
       "<tbody>\n",
       "\t<tr><td>Afghanistan          </td><td>Eastern Mediterranean</td><td>29825                </td><td>47.42                </td><td> 3.82                </td><td>5.40                 </td><td>60                   </td><td> 98.5                </td><td> 54.26               </td><td>  NA                 </td><td> 1140                </td><td>  NA                 </td><td>  NA                 </td></tr>\n",
       "\t<tr><td>Albania              </td><td>Europe               </td><td> 3162                </td><td>21.33                </td><td>14.93                </td><td>1.75                 </td><td>74                   </td><td> 16.7                </td><td> 96.39               </td><td>  NA                 </td><td> 8820                </td><td>  NA                 </td><td>  NA                 </td></tr>\n",
       "\t<tr><td>Algeria              </td><td>Africa               </td><td>38482                </td><td>27.42                </td><td> 7.17                </td><td>2.83                 </td><td>73                   </td><td> 20.0                </td><td> 98.99               </td><td>  NA                 </td><td> 8310                </td><td>98.2                 </td><td>96.4                 </td></tr>\n",
       "\t<tr><td>Andorra              </td><td>Europe               </td><td>   78                </td><td>15.20                </td><td>22.86                </td><td>  NA                 </td><td>82                   </td><td>  3.2                </td><td> 75.49               </td><td>  NA                 </td><td>   NA                </td><td>78.4                 </td><td>79.4                 </td></tr>\n",
       "\t<tr><td>Angola               </td><td>Africa               </td><td>20821                </td><td>47.58                </td><td> 3.84                </td><td>6.10                 </td><td>51                   </td><td>163.5                </td><td> 48.38               </td><td>70.1                 </td><td> 5230                </td><td>93.1                 </td><td>78.2                 </td></tr>\n",
       "\t<tr><td>Antigua and Barbuda  </td><td>Americas             </td><td>   89                </td><td>25.96                </td><td>12.35                </td><td>2.12                 </td><td>75                   </td><td>  9.9                </td><td>196.41               </td><td>99.0                 </td><td>17900                </td><td>91.1                 </td><td>84.5                 </td></tr>\n",
       "</tbody>\n",
       "</table>\n"
      ],
      "text/latex": [
       "\\begin{tabular}{r|lllllllllllll}\n",
       " Country & Region & Population & Under15 & Over60 & FertilityRate & LifeExpectancy & ChildMortality & CellularSubscribers & LiteracyRate & GNI & PrimarySchoolEnrollmentMale & PrimarySchoolEnrollmentFemale\\\\\n",
       "\\hline\n",
       "\t Afghanistan           & Eastern Mediterranean & 29825                 & 47.42                 &  3.82                 & 5.40                  & 60                    &  98.5                 &  54.26                &   NA                  &  1140                 &   NA                  &   NA                 \\\\\n",
       "\t Albania               & Europe                &  3162                 & 21.33                 & 14.93                 & 1.75                  & 74                    &  16.7                 &  96.39                &   NA                  &  8820                 &   NA                  &   NA                 \\\\\n",
       "\t Algeria               & Africa                & 38482                 & 27.42                 &  7.17                 & 2.83                  & 73                    &  20.0                 &  98.99                &   NA                  &  8310                 & 98.2                  & 96.4                 \\\\\n",
       "\t Andorra               & Europe                &    78                 & 15.20                 & 22.86                 &   NA                  & 82                    &   3.2                 &  75.49                &   NA                  &    NA                 & 78.4                  & 79.4                 \\\\\n",
       "\t Angola                & Africa                & 20821                 & 47.58                 &  3.84                 & 6.10                  & 51                    & 163.5                 &  48.38                & 70.1                  &  5230                 & 93.1                  & 78.2                 \\\\\n",
       "\t Antigua and Barbuda   & Americas              &    89                 & 25.96                 & 12.35                 & 2.12                  & 75                    &   9.9                 & 196.41                & 99.0                  & 17900                 & 91.1                  & 84.5                 \\\\\n",
       "\\end{tabular}\n"
      ],
      "text/markdown": [
       "\n",
       "Country | Region | Population | Under15 | Over60 | FertilityRate | LifeExpectancy | ChildMortality | CellularSubscribers | LiteracyRate | GNI | PrimarySchoolEnrollmentMale | PrimarySchoolEnrollmentFemale | \n",
       "|---|---|---|---|---|---|\n",
       "| Afghanistan           | Eastern Mediterranean | 29825                 | 47.42                 |  3.82                 | 5.40                  | 60                    |  98.5                 |  54.26                |   NA                  |  1140                 |   NA                  |   NA                  | \n",
       "| Albania               | Europe                |  3162                 | 21.33                 | 14.93                 | 1.75                  | 74                    |  16.7                 |  96.39                |   NA                  |  8820                 |   NA                  |   NA                  | \n",
       "| Algeria               | Africa                | 38482                 | 27.42                 |  7.17                 | 2.83                  | 73                    |  20.0                 |  98.99                |   NA                  |  8310                 | 98.2                  | 96.4                  | \n",
       "| Andorra               | Europe                |    78                 | 15.20                 | 22.86                 |   NA                  | 82                    |   3.2                 |  75.49                |   NA                  |    NA                 | 78.4                  | 79.4                  | \n",
       "| Angola                | Africa                | 20821                 | 47.58                 |  3.84                 | 6.10                  | 51                    | 163.5                 |  48.38                | 70.1                  |  5230                 | 93.1                  | 78.2                  | \n",
       "| Antigua and Barbuda   | Americas              |    89                 | 25.96                 | 12.35                 | 2.12                  | 75                    |   9.9                 | 196.41                | 99.0                  | 17900                 | 91.1                  | 84.5                  | \n",
       "\n",
       "\n"
      ],
      "text/plain": [
       "  Country             Region                Population Under15 Over60\n",
       "1 Afghanistan         Eastern Mediterranean 29825      47.42    3.82 \n",
       "2 Albania             Europe                 3162      21.33   14.93 \n",
       "3 Algeria             Africa                38482      27.42    7.17 \n",
       "4 Andorra             Europe                   78      15.20   22.86 \n",
       "5 Angola              Africa                20821      47.58    3.84 \n",
       "6 Antigua and Barbuda Americas                 89      25.96   12.35 \n",
       "  FertilityRate LifeExpectancy ChildMortality CellularSubscribers LiteracyRate\n",
       "1 5.40          60              98.5           54.26                NA        \n",
       "2 1.75          74              16.7           96.39                NA        \n",
       "3 2.83          73              20.0           98.99                NA        \n",
       "4   NA          82               3.2           75.49                NA        \n",
       "5 6.10          51             163.5           48.38              70.1        \n",
       "6 2.12          75               9.9          196.41              99.0        \n",
       "  GNI   PrimarySchoolEnrollmentMale PrimarySchoolEnrollmentFemale\n",
       "1  1140   NA                          NA                         \n",
       "2  8820   NA                          NA                         \n",
       "3  8310 98.2                        96.4                         \n",
       "4    NA 78.4                        79.4                         \n",
       "5  5230 93.1                        78.2                         \n",
       "6 17900 91.1                        84.5                         "
      ]
     },
     "metadata": {},
     "output_type": "display_data"
    }
   ],
   "source": [
    "who_df = read.csv('data/WHO.csv')\n",
    "head(who_df)"
   ]
  },
  {
   "cell_type": "code",
   "execution_count": 40,
   "metadata": {},
   "outputs": [
    {
     "data": {
      "text/plain": [
       "                Country                      Region     Population     \n",
       " Afghanistan        :  1   Africa               :46   Min.   :      1  \n",
       " Albania            :  1   Americas             :35   1st Qu.:   1696  \n",
       " Algeria            :  1   Eastern Mediterranean:22   Median :   7790  \n",
       " Andorra            :  1   Europe               :53   Mean   :  36360  \n",
       " Angola             :  1   South-East Asia      :11   3rd Qu.:  24535  \n",
       " Antigua and Barbuda:  1   Western Pacific      :27   Max.   :1390000  \n",
       " (Other)            :188                                               \n",
       "    Under15          Over60      FertilityRate   LifeExpectancy \n",
       " Min.   :13.12   Min.   : 0.81   Min.   :1.260   Min.   :47.00  \n",
       " 1st Qu.:18.72   1st Qu.: 5.20   1st Qu.:1.835   1st Qu.:64.00  \n",
       " Median :28.65   Median : 8.53   Median :2.400   Median :72.50  \n",
       " Mean   :28.73   Mean   :11.16   Mean   :2.941   Mean   :70.01  \n",
       " 3rd Qu.:37.75   3rd Qu.:16.69   3rd Qu.:3.905   3rd Qu.:76.00  \n",
       " Max.   :49.99   Max.   :31.92   Max.   :7.580   Max.   :83.00  \n",
       "                                 NA's   :11                     \n",
       " ChildMortality    CellularSubscribers  LiteracyRate        GNI       \n",
       " Min.   :  2.200   Min.   :  2.57      Min.   :31.10   Min.   :  340  \n",
       " 1st Qu.:  8.425   1st Qu.: 63.57      1st Qu.:71.60   1st Qu.: 2335  \n",
       " Median : 18.600   Median : 97.75      Median :91.80   Median : 7870  \n",
       " Mean   : 36.149   Mean   : 93.64      Mean   :83.71   Mean   :13321  \n",
       " 3rd Qu.: 55.975   3rd Qu.:120.81      3rd Qu.:97.85   3rd Qu.:17558  \n",
       " Max.   :181.600   Max.   :196.41      Max.   :99.80   Max.   :86440  \n",
       "                   NA's   :10          NA's   :91      NA's   :32     \n",
       " PrimarySchoolEnrollmentMale PrimarySchoolEnrollmentFemale\n",
       " Min.   : 37.20              Min.   : 32.50               \n",
       " 1st Qu.: 87.70              1st Qu.: 87.30               \n",
       " Median : 94.70              Median : 95.10               \n",
       " Mean   : 90.85              Mean   : 89.63               \n",
       " 3rd Qu.: 98.10              3rd Qu.: 97.90               \n",
       " Max.   :100.00              Max.   :100.00               \n",
       " NA's   :93                  NA's   :93                   "
      ]
     },
     "metadata": {},
     "output_type": "display_data"
    }
   ],
   "source": [
    "summary(who_df)"
   ]
  },
  {
   "cell_type": "code",
   "execution_count": 3,
   "metadata": {},
   "outputs": [
    {
     "data": {
      "text/html": [
       "<ol class=list-inline>\n",
       "\t<li>194</li>\n",
       "\t<li>13</li>\n",
       "</ol>\n"
      ],
      "text/latex": [
       "\\begin{enumerate*}\n",
       "\\item 194\n",
       "\\item 13\n",
       "\\end{enumerate*}\n"
      ],
      "text/markdown": [
       "1. 194\n",
       "2. 13\n",
       "\n",
       "\n"
      ],
      "text/plain": [
       "[1] 194  13"
      ]
     },
     "metadata": {},
     "output_type": "display_data"
    }
   ],
   "source": [
    "# shape of the dataframe\n",
    "dim(who_df)"
   ]
  },
  {
   "cell_type": "code",
   "execution_count": 43,
   "metadata": {},
   "outputs": [
    {
     "data": {
      "text/html": [
       "25"
      ],
      "text/latex": [
       "25"
      ],
      "text/markdown": [
       "25"
      ],
      "text/plain": [
       "[1] 25"
      ]
     },
     "metadata": {},
     "output_type": "display_data"
    }
   ],
   "source": [
    "dim(who_df[which(who_df$Population > 50000),])[1]"
   ]
  },
  {
   "cell_type": "markdown",
   "metadata": {},
   "source": [
    "### Countries with the Biggest Population"
   ]
  },
  {
   "cell_type": "code",
   "execution_count": 11,
   "metadata": {},
   "outputs": [
    {
     "data": {
      "text/html": [
       "<table>\n",
       "<thead><tr><th></th><th scope=col>Country</th><th scope=col>Population</th></tr></thead>\n",
       "<tbody>\n",
       "\t<tr><th scope=row>36</th><td>China                   </td><td>1390000                 </td></tr>\n",
       "\t<tr><th scope=row>78</th><td>India                   </td><td>1240000                 </td></tr>\n",
       "\t<tr><th scope=row>186</th><td>United States of America</td><td> 318000                 </td></tr>\n",
       "\t<tr><th scope=row>79</th><td>Indonesia               </td><td> 247000                 </td></tr>\n",
       "\t<tr><th scope=row>24</th><td>Brazil                  </td><td> 199000                 </td></tr>\n",
       "\t<tr><th scope=row>129</th><td>Pakistan                </td><td> 179000                 </td></tr>\n",
       "\t<tr><th scope=row>125</th><td>Nigeria                 </td><td> 169000                 </td></tr>\n",
       "\t<tr><th scope=row>14</th><td>Bangladesh              </td><td> 155000                 </td></tr>\n",
       "\t<tr><th scope=row>142</th><td>Russian Federation      </td><td> 143000                 </td></tr>\n",
       "\t<tr><th scope=row>86</th><td>Japan                   </td><td> 127000                 </td></tr>\n",
       "</tbody>\n",
       "</table>\n"
      ],
      "text/latex": [
       "\\begin{tabular}{r|ll}\n",
       "  & Country & Population\\\\\n",
       "\\hline\n",
       "\t36 & China                    & 1390000                 \\\\\n",
       "\t78 & India                    & 1240000                 \\\\\n",
       "\t186 & United States of America &  318000                 \\\\\n",
       "\t79 & Indonesia                &  247000                 \\\\\n",
       "\t24 & Brazil                   &  199000                 \\\\\n",
       "\t129 & Pakistan                 &  179000                 \\\\\n",
       "\t125 & Nigeria                  &  169000                 \\\\\n",
       "\t14 & Bangladesh               &  155000                 \\\\\n",
       "\t142 & Russian Federation       &  143000                 \\\\\n",
       "\t86 & Japan                    &  127000                 \\\\\n",
       "\\end{tabular}\n"
      ],
      "text/markdown": [
       "\n",
       "| <!--/--> | Country | Population | \n",
       "|---|---|---|---|---|---|---|---|---|---|\n",
       "| 36 | China                    | 1390000                  | \n",
       "| 78 | India                    | 1240000                  | \n",
       "| 186 | United States of America |  318000                  | \n",
       "| 79 | Indonesia                |  247000                  | \n",
       "| 24 | Brazil                   |  199000                  | \n",
       "| 129 | Pakistan                 |  179000                  | \n",
       "| 125 | Nigeria                  |  169000                  | \n",
       "| 14 | Bangladesh               |  155000                  | \n",
       "| 142 | Russian Federation       |  143000                  | \n",
       "| 86 | Japan                    |  127000                  | \n",
       "\n",
       "\n"
      ],
      "text/plain": [
       "    Country                  Population\n",
       "36  China                    1390000   \n",
       "78  India                    1240000   \n",
       "186 United States of America  318000   \n",
       "79  Indonesia                 247000   \n",
       "24  Brazil                    199000   \n",
       "129 Pakistan                  179000   \n",
       "125 Nigeria                   169000   \n",
       "14  Bangladesh                155000   \n",
       "142 Russian Federation        143000   \n",
       "86  Japan                     127000   "
      ]
     },
     "metadata": {},
     "output_type": "display_data"
    }
   ],
   "source": [
    "# Top 10 Countries wiht Highest Population\n",
    "head(who_df[order(who_df$Population, decreasing = TRUE),][c('Country', 'Population')], 10)"
   ]
  },
  {
   "cell_type": "code",
   "execution_count": 5,
   "metadata": {},
   "outputs": [
    {
     "data": {
      "text/html": [
       "<table>\n",
       "<thead><tr><th></th><th scope=col>Country</th><th scope=col>Population</th></tr></thead>\n",
       "<tbody>\n",
       "\t<tr><th scope=row>36</th><td>China                   </td><td>1390000                 </td></tr>\n",
       "\t<tr><th scope=row>78</th><td>India                   </td><td>1240000                 </td></tr>\n",
       "\t<tr><th scope=row>186</th><td>United States of America</td><td> 318000                 </td></tr>\n",
       "\t<tr><th scope=row>79</th><td>Indonesia               </td><td> 247000                 </td></tr>\n",
       "\t<tr><th scope=row>24</th><td>Brazil                  </td><td> 199000                 </td></tr>\n",
       "\t<tr><th scope=row>129</th><td>Pakistan                </td><td> 179000                 </td></tr>\n",
       "\t<tr><th scope=row>125</th><td>Nigeria                 </td><td> 169000                 </td></tr>\n",
       "\t<tr><th scope=row>14</th><td>Bangladesh              </td><td> 155000                 </td></tr>\n",
       "\t<tr><th scope=row>142</th><td>Russian Federation      </td><td> 143000                 </td></tr>\n",
       "\t<tr><th scope=row>86</th><td>Japan                   </td><td> 127000                 </td></tr>\n",
       "</tbody>\n",
       "</table>\n"
      ],
      "text/latex": [
       "\\begin{tabular}{r|ll}\n",
       "  & Country & Population\\\\\n",
       "\\hline\n",
       "\t36 & China                    & 1390000                 \\\\\n",
       "\t78 & India                    & 1240000                 \\\\\n",
       "\t186 & United States of America &  318000                 \\\\\n",
       "\t79 & Indonesia                &  247000                 \\\\\n",
       "\t24 & Brazil                   &  199000                 \\\\\n",
       "\t129 & Pakistan                 &  179000                 \\\\\n",
       "\t125 & Nigeria                  &  169000                 \\\\\n",
       "\t14 & Bangladesh               &  155000                 \\\\\n",
       "\t142 & Russian Federation       &  143000                 \\\\\n",
       "\t86 & Japan                    &  127000                 \\\\\n",
       "\\end{tabular}\n"
      ],
      "text/markdown": [
       "\n",
       "| <!--/--> | Country | Population | \n",
       "|---|---|---|---|---|---|---|---|---|---|\n",
       "| 36 | China                    | 1390000                  | \n",
       "| 78 | India                    | 1240000                  | \n",
       "| 186 | United States of America |  318000                  | \n",
       "| 79 | Indonesia                |  247000                  | \n",
       "| 24 | Brazil                   |  199000                  | \n",
       "| 129 | Pakistan                 |  179000                  | \n",
       "| 125 | Nigeria                  |  169000                  | \n",
       "| 14 | Bangladesh               |  155000                  | \n",
       "| 142 | Russian Federation       |  143000                  | \n",
       "| 86 | Japan                    |  127000                  | \n",
       "\n",
       "\n"
      ],
      "text/plain": [
       "    Country                  Population\n",
       "36  China                    1390000   \n",
       "78  India                    1240000   \n",
       "186 United States of America  318000   \n",
       "79  Indonesia                 247000   \n",
       "24  Brazil                    199000   \n",
       "129 Pakistan                  179000   \n",
       "125 Nigeria                   169000   \n",
       "14  Bangladesh                155000   \n",
       "142 Russian Federation        143000   \n",
       "86  Japan                     127000   "
      ]
     },
     "metadata": {},
     "output_type": "display_data"
    }
   ],
   "source": [
    "# Another implementation of Top 10 countries with highest population\n",
    "top_10_popn = who_df[order(who_df$Population, decreasing = TRUE),] %>% select(Country, Population) %>% head(n = 10)\n",
    "top_10_popn"
   ]
  },
  {
   "cell_type": "code",
   "execution_count": 7,
   "metadata": {},
   "outputs": [],
   "source": [
    "g1<-ggplot(top_10_popn,aes(x=factor(Country,levels=Country),y=Population))+\n",
    "geom_bar(stat=\"identity\", width=0.5, fill=\"navyblue\")+\n",
    "theme(axis.text.x = element_text(angle=90, vjust=0.6))+\n",
    "labs(title=\"Top10 Populations\", x=\"Country\", y=\"Population\") \n",
    "# coord_flip() \n",
    "\n"
   ]
  },
  {
   "cell_type": "code",
   "execution_count": 8,
   "metadata": {},
   "outputs": [
    {
     "data": {},
     "metadata": {},
     "output_type": "display_data"
    },
    {
     "data": {
      "image/png": "[encoded data removed]",
      "text/plain": [
       "plot without title"
      ]
     },
     "metadata": {},
     "output_type": "display_data"
    }
   ],
   "source": [
    "g1"
   ]
  },
  {
   "cell_type": "markdown",
   "metadata": {},
   "source": [
    "### Population of Malaysia"
   ]
  },
  {
   "cell_type": "code",
   "execution_count": 9,
   "metadata": {},
   "outputs": [
    {
     "data": {
      "text/html": [
       "<table>\n",
       "<thead><tr><th></th><th scope=col>Country</th><th scope=col>Region</th><th scope=col>Population</th><th scope=col>Under15</th><th scope=col>Over60</th><th scope=col>FertilityRate</th><th scope=col>LifeExpectancy</th><th scope=col>ChildMortality</th><th scope=col>CellularSubscribers</th><th scope=col>LiteracyRate</th><th scope=col>GNI</th><th scope=col>PrimarySchoolEnrollmentMale</th><th scope=col>PrimarySchoolEnrollmentFemale</th></tr></thead>\n",
       "<tbody>\n",
       "\t<tr><th scope=row>103</th><td>Malaysia       </td><td>Western Pacific</td><td>29240          </td><td>26.65          </td><td>8.21           </td><td>1.99           </td><td>74             </td><td>8.5            </td><td>127.04         </td><td>93.1           </td><td>15650          </td><td>NA             </td><td>NA             </td></tr>\n",
       "</tbody>\n",
       "</table>\n"
      ],
      "text/latex": [
       "\\begin{tabular}{r|lllllllllllll}\n",
       "  & Country & Region & Population & Under15 & Over60 & FertilityRate & LifeExpectancy & ChildMortality & CellularSubscribers & LiteracyRate & GNI & PrimarySchoolEnrollmentMale & PrimarySchoolEnrollmentFemale\\\\\n",
       "\\hline\n",
       "\t103 & Malaysia        & Western Pacific & 29240           & 26.65           & 8.21            & 1.99            & 74              & 8.5             & 127.04          & 93.1            & 15650           & NA              & NA             \\\\\n",
       "\\end{tabular}\n"
      ],
      "text/markdown": [
       "\n",
       "| <!--/--> | Country | Region | Population | Under15 | Over60 | FertilityRate | LifeExpectancy | ChildMortality | CellularSubscribers | LiteracyRate | GNI | PrimarySchoolEnrollmentMale | PrimarySchoolEnrollmentFemale | \n",
       "|---|\n",
       "| 103 | Malaysia        | Western Pacific | 29240           | 26.65           | 8.21            | 1.99            | 74              | 8.5             | 127.04          | 93.1            | 15650           | NA              | NA              | \n",
       "\n",
       "\n"
      ],
      "text/plain": [
       "    Country  Region          Population Under15 Over60 FertilityRate\n",
       "103 Malaysia Western Pacific 29240      26.65   8.21   1.99         \n",
       "    LifeExpectancy ChildMortality CellularSubscribers LiteracyRate GNI  \n",
       "103 74             8.5            127.04              93.1         15650\n",
       "    PrimarySchoolEnrollmentMale PrimarySchoolEnrollmentFemale\n",
       "103 NA                          NA                           "
      ]
     },
     "metadata": {},
     "output_type": "display_data"
    }
   ],
   "source": [
    "who_df[which(who_df$Country == \"Malaysia\"),]"
   ]
  },
  {
   "cell_type": "code",
   "execution_count": 10,
   "metadata": {},
   "outputs": [
    {
     "data": {
      "text/html": [
       "29240"
      ],
      "text/latex": [
       "29240"
      ],
      "text/markdown": [
       "29240"
      ],
      "text/plain": [
       "[1] 29240"
      ]
     },
     "metadata": {},
     "output_type": "display_data"
    }
   ],
   "source": [
    "who_df[which(who_df$Country == \"Malaysia\"),]$Population"
   ]
  },
  {
   "cell_type": "markdown",
   "metadata": {},
   "source": [
    "### Country With the Lowest Literacy Rate"
   ]
  },
  {
   "cell_type": "code",
   "execution_count": 127,
   "metadata": {},
   "outputs": [
    {
     "data": {
      "text/html": [
       "<table>\n",
       "<thead><tr><th scope=col>Country</th><th scope=col>LiteracyRate</th></tr></thead>\n",
       "<tbody>\n",
       "\t<tr><td>Afghanistan        </td><td>  NA               </td></tr>\n",
       "\t<tr><td>Albania            </td><td>  NA               </td></tr>\n",
       "\t<tr><td>Algeria            </td><td>  NA               </td></tr>\n",
       "\t<tr><td>Andorra            </td><td>  NA               </td></tr>\n",
       "\t<tr><td>Angola             </td><td>70.1               </td></tr>\n",
       "\t<tr><td>Antigua and Barbuda</td><td>99.0               </td></tr>\n",
       "</tbody>\n",
       "</table>\n"
      ],
      "text/latex": [
       "\\begin{tabular}{r|ll}\n",
       " Country & LiteracyRate\\\\\n",
       "\\hline\n",
       "\t Afghanistan         &   NA               \\\\\n",
       "\t Albania             &   NA               \\\\\n",
       "\t Algeria             &   NA               \\\\\n",
       "\t Andorra             &   NA               \\\\\n",
       "\t Angola              & 70.1               \\\\\n",
       "\t Antigua and Barbuda & 99.0               \\\\\n",
       "\\end{tabular}\n"
      ],
      "text/markdown": [
       "\n",
       "Country | LiteracyRate | \n",
       "|---|---|---|---|---|---|\n",
       "| Afghanistan         |   NA                | \n",
       "| Albania             |   NA                | \n",
       "| Algeria             |   NA                | \n",
       "| Andorra             |   NA                | \n",
       "| Angola              | 70.1                | \n",
       "| Antigua and Barbuda | 99.0                | \n",
       "\n",
       "\n"
      ],
      "text/plain": [
       "  Country             LiteracyRate\n",
       "1 Afghanistan           NA        \n",
       "2 Albania               NA        \n",
       "3 Algeria               NA        \n",
       "4 Andorra               NA        \n",
       "5 Angola              70.1        \n",
       "6 Antigua and Barbuda 99.0        "
      ]
     },
     "metadata": {},
     "output_type": "display_data"
    }
   ],
   "source": [
    "who_df_lit = who_df[c('Country', 'LiteracyRate')]\n",
    "head(who_df_lit)"
   ]
  },
  {
   "cell_type": "code",
   "execution_count": 128,
   "metadata": {},
   "outputs": [
    {
     "data": {
      "text/plain": [
       "                Country     LiteracyRate  \n",
       " Afghanistan        :  1   Min.   :31.10  \n",
       " Albania            :  1   1st Qu.:71.60  \n",
       " Algeria            :  1   Median :91.80  \n",
       " Andorra            :  1   Mean   :83.71  \n",
       " Angola             :  1   3rd Qu.:97.85  \n",
       " Antigua and Barbuda:  1   Max.   :99.80  \n",
       " (Other)            :188   NA's   :91     "
      ]
     },
     "metadata": {},
     "output_type": "display_data"
    }
   ],
   "source": [
    "summary(who_df_lit)"
   ]
  },
  {
   "cell_type": "markdown",
   "metadata": {},
   "source": [
    "There are around 188 countries in this dataset, with 91 empty values."
   ]
  },
  {
   "cell_type": "code",
   "execution_count": 131,
   "metadata": {},
   "outputs": [
    {
     "data": {
      "text/html": [
       "<table>\n",
       "<thead><tr><th></th><th scope=col>Country</th><th scope=col>LiteracyRate</th></tr></thead>\n",
       "<tbody>\n",
       "\t<tr><th scope=row>5</th><td>Angola             </td><td>70.1               </td></tr>\n",
       "\t<tr><th scope=row>6</th><td>Antigua and Barbuda</td><td>99.0               </td></tr>\n",
       "\t<tr><th scope=row>7</th><td>Argentina          </td><td>97.8               </td></tr>\n",
       "\t<tr><th scope=row>8</th><td>Armenia            </td><td>99.6               </td></tr>\n",
       "\t<tr><th scope=row>13</th><td>Bahrain            </td><td>91.9               </td></tr>\n",
       "\t<tr><th scope=row>14</th><td>Bangladesh         </td><td>56.8               </td></tr>\n",
       "</tbody>\n",
       "</table>\n"
      ],
      "text/latex": [
       "\\begin{tabular}{r|ll}\n",
       "  & Country & LiteracyRate\\\\\n",
       "\\hline\n",
       "\t5 & Angola              & 70.1               \\\\\n",
       "\t6 & Antigua and Barbuda & 99.0               \\\\\n",
       "\t7 & Argentina           & 97.8               \\\\\n",
       "\t8 & Armenia             & 99.6               \\\\\n",
       "\t13 & Bahrain             & 91.9               \\\\\n",
       "\t14 & Bangladesh          & 56.8               \\\\\n",
       "\\end{tabular}\n"
      ],
      "text/markdown": [
       "\n",
       "| <!--/--> | Country | LiteracyRate | \n",
       "|---|---|---|---|---|---|\n",
       "| 5 | Angola              | 70.1                | \n",
       "| 6 | Antigua and Barbuda | 99.0                | \n",
       "| 7 | Argentina           | 97.8                | \n",
       "| 8 | Armenia             | 99.6                | \n",
       "| 13 | Bahrain             | 91.9                | \n",
       "| 14 | Bangladesh          | 56.8                | \n",
       "\n",
       "\n"
      ],
      "text/plain": [
       "   Country             LiteracyRate\n",
       "5  Angola              70.1        \n",
       "6  Antigua and Barbuda 99.0        \n",
       "7  Argentina           97.8        \n",
       "8  Armenia             99.6        \n",
       "13 Bahrain             91.9        \n",
       "14 Bangladesh          56.8        "
      ]
     },
     "metadata": {},
     "output_type": "display_data"
    }
   ],
   "source": [
    "who_df_lit_nona = who_df_lit[complete.cases(who_df_lit),]\n",
    "head(who_df_lit_nona)"
   ]
  },
  {
   "cell_type": "code",
   "execution_count": 137,
   "metadata": {},
   "outputs": [
    {
     "name": "stderr",
     "output_type": "stream",
     "text": [
      "Warning message in FUN(X[[i]], ...):\n",
      "“input string 1 is invalid in this locale”Warning message in FUN(X[[i]], ...):\n",
      "“input string 1 is invalid in this locale”Warning message in FUN(X[[i]], ...):\n",
      "“input string 1 is invalid in this locale”Warning message in FUN(X[[i]], ...):\n",
      "“input string 1 is invalid in this locale”Warning message in FUN(X[[i]], ...):\n",
      "“input string 1 is invalid in this locale”Warning message in FUN(X[[i]], ...):\n",
      "“input string 1 is invalid in this locale”Warning message in FUN(X[[i]], ...):\n",
      "“input string 1 is invalid in this locale”Warning message in FUN(X[[i]], ...):\n",
      "“input string 1 is invalid in this locale”Warning message in FUN(X[[i]], ...):\n",
      "“input string 1 is invalid in this locale”Warning message in FUN(X[[i]], ...):\n",
      "“input string 1 is invalid in this locale”Warning message in FUN(X[[i]], ...):\n",
      "“input string 1 is invalid in this locale”Warning message in FUN(X[[i]], ...):\n",
      "“input string 1 is invalid in this locale”Warning message in FUN(X[[i]], ...):\n",
      "“input string 1 is invalid in this locale”Warning message in FUN(X[[i]], ...):\n",
      "“input string 1 is invalid in this locale”Warning message in FUN(X[[i]], ...):\n",
      "“input string 1 is invalid in this locale”Warning message in FUN(X[[i]], ...):\n",
      "“input string 1 is invalid in this locale”ERROR while rich displaying an object: Error in gsub(\" &\\\\\", \"\\\\\", r, fixed = TRUE): input string 1 is invalid in this locale\n",
      "\n",
      "Traceback:\n",
      "1. FUN(X[[i]], ...)\n",
      "2. tryCatch(withCallingHandlers({\n",
      " .     rpr <- mime2repr[[mime]](obj)\n",
      " .     if (is.null(rpr)) \n",
      " .         return(NULL)\n",
      " .     prepare_content(is.raw(rpr), rpr)\n",
      " . }, error = error_handler), error = outer_handler)\n",
      "3. tryCatchList(expr, classes, parentenv, handlers)\n",
      "4. tryCatchOne(expr, names, parentenv, handlers[[1L]])\n",
      "5. doTryCatch(return(expr), name, parentenv, handler)\n",
      "6. withCallingHandlers({\n",
      " .     rpr <- mime2repr[[mime]](obj)\n",
      " .     if (is.null(rpr)) \n",
      " .         return(NULL)\n",
      " .     prepare_content(is.raw(rpr), rpr)\n",
      " . }, error = error_handler)\n",
      "7. mime2repr[[mime]](obj)\n",
      "8. repr_latex.data.frame(obj)\n",
      "9. gsub(\" &\\\\\", \"\\\\\", r, fixed = TRUE)\n",
      "Warning message in grepl(\"<html.*>\", data[[\"text/html\"]], ignore.case = TRUE):\n",
      "“input string 1 is invalid in this locale”"
     ]
    },
    {
     "data": {
      "text/html": [
       "<table>\n",
       "<thead><tr><th></th><th scope=col>Country</th><th scope=col>LiteracyRate</th></tr></thead>\n",
       "<tbody>\n",
       "\t<tr><th scope=row>42</th><td>C<c8>te d'Ivoire        </td><td>56.2                    </td></tr>\n",
       "\t<tr><th scope=row>116</th><td>Mozambique              </td><td>56.1                    </td></tr>\n",
       "\t<tr><th scope=row>33</th><td>Central African Republic</td><td>56.0                    </td></tr>\n",
       "\t<tr><th scope=row>72</th><td>Guinea-Bissau           </td><td>54.2                    </td></tr>\n",
       "\t<tr><th scope=row>64</th><td>Gambia                  </td><td>50.0                    </td></tr>\n",
       "\t<tr><th scope=row>19</th><td>Benin                   </td><td>42.4                    </td></tr>\n",
       "\t<tr><th scope=row>154</th><td>Sierra Leone            </td><td>42.1                    </td></tr>\n",
       "\t<tr><th scope=row>71</th><td>Guinea                  </td><td>41.0                    </td></tr>\n",
       "\t<tr><th scope=row>34</th><td>Chad                    </td><td>34.5                    </td></tr>\n",
       "\t<tr><th scope=row>105</th><td>Mali                    </td><td>31.1                    </td></tr>\n",
       "</tbody>\n",
       "</table>\n"
      ],
      "text/markdown": [
       "\n",
       "| <!--/--> | Country | LiteracyRate | \n",
       "|---|---|---|---|---|---|---|---|---|---|\n",
       "| 42 | C<c8>te d'Ivoire         | 56.2                     | \n",
       "| 116 | Mozambique               | 56.1                     | \n",
       "| 33 | Central African Republic | 56.0                     | \n",
       "| 72 | Guinea-Bissau            | 54.2                     | \n",
       "| 64 | Gambia                   | 50.0                     | \n",
       "| 19 | Benin                    | 42.4                     | \n",
       "| 154 | Sierra Leone             | 42.1                     | \n",
       "| 71 | Guinea                   | 41.0                     | \n",
       "| 34 | Chad                     | 34.5                     | \n",
       "| 105 | Mali                     | 31.1                     | \n",
       "\n",
       "\n"
      ],
      "text/plain": [
       "    Country                  LiteracyRate\n",
       "42  C\\xc8te d'Ivoire         56.2        \n",
       "116 Mozambique               56.1        \n",
       "33  Central African Republic 56.0        \n",
       "72  Guinea-Bissau            54.2        \n",
       "64  Gambia                   50.0        \n",
       "19  Benin                    42.4        \n",
       "154 Sierra Leone             42.1        \n",
       "71  Guinea                   41.0        \n",
       "34  Chad                     34.5        \n",
       "105 Mali                     31.1        "
      ]
     },
     "metadata": {},
     "output_type": "display_data"
    }
   ],
   "source": [
    "bottom_10_lit = tail(who_df_lit_nona[order(who_df_lit_nona$LiteracyRate, decreasing = TRUE),], 10)\n",
    "bottom_10_lit"
   ]
  },
  {
   "cell_type": "code",
   "execution_count": 142,
   "metadata": {},
   "outputs": [
    {
     "name": "stderr",
     "output_type": "stream",
     "text": [
      "Warning message in grid.Call(C_textBounds, as.graphicsAnnot(x$label), x$x, x$y, :\n",
      "“conversion failure on 'C<c8>te d'Ivoire' in 'mbcsToSbcs': dot substituted for <c8>”Warning message in grid.Call(C_textBounds, as.graphicsAnnot(x$label), x$x, x$y, :\n",
      "“conversion failure on 'C<c8>te d'Ivoire' in 'mbcsToSbcs': dot substituted for <c8>”Warning message in grid.Call(C_textBounds, as.graphicsAnnot(x$label), x$x, x$y, :\n",
      "“conversion failure on 'C<c8>te d'Ivoire' in 'mbcsToSbcs': dot substituted for <c8>”Warning message in grid.Call(C_textBounds, as.graphicsAnnot(x$label), x$x, x$y, :\n",
      "“conversion failure on 'C<c8>te d'Ivoire' in 'mbcsToSbcs': dot substituted for <c8>”Warning message in grid.Call(C_textBounds, as.graphicsAnnot(x$label), x$x, x$y, :\n",
      "“conversion failure on 'C<c8>te d'Ivoire' in 'mbcsToSbcs': dot substituted for <c8>”Warning message in grid.Call(C_textBounds, as.graphicsAnnot(x$label), x$x, x$y, :\n",
      "“conversion failure on 'C<c8>te d'Ivoire' in 'mbcsToSbcs': dot substituted for <c8>”Warning message in grid.Call(C_textBounds, as.graphicsAnnot(x$label), x$x, x$y, :\n",
      "“conversion failure on 'C<c8>te d'Ivoire' in 'mbcsToSbcs': dot substituted for <c8>”Warning message in grid.Call(C_textBounds, as.graphicsAnnot(x$label), x$x, x$y, :\n",
      "“conversion failure on 'C<c8>te d'Ivoire' in 'mbcsToSbcs': dot substituted for <c8>”Warning message in grid.Call(C_textBounds, as.graphicsAnnot(x$label), x$x, x$y, :\n",
      "“conversion failure on 'C<c8>te d'Ivoire' in 'mbcsToSbcs': dot substituted for <c8>”Warning message in grid.Call(C_textBounds, as.graphicsAnnot(x$label), x$x, x$y, :\n",
      "“conversion failure on 'C<c8>te d'Ivoire' in 'mbcsToSbcs': dot substituted for <c8>”Warning message in grid.Call(C_textBounds, as.graphicsAnnot(x$label), x$x, x$y, :\n",
      "“conversion failure on 'C<c8>te d'Ivoire' in 'mbcsToSbcs': dot substituted for <c8>”Warning message in grid.Call(C_textBounds, as.graphicsAnnot(x$label), x$x, x$y, :\n",
      "“conversion failure on 'C<c8>te d'Ivoire' in 'mbcsToSbcs': dot substituted for <c8>”Warning message in grid.Call(C_textBounds, as.graphicsAnnot(x$label), x$x, x$y, :\n",
      "“conversion failure on 'C<c8>te d'Ivoire' in 'mbcsToSbcs': dot substituted for <c8>”Warning message in grid.Call(C_textBounds, as.graphicsAnnot(x$label), x$x, x$y, :\n",
      "“conversion failure on 'C<c8>te d'Ivoire' in 'mbcsToSbcs': dot substituted for <c8>”Warning message in grid.Call(C_textBounds, as.graphicsAnnot(x$label), x$x, x$y, :\n",
      "“conversion failure on 'C<c8>te d'Ivoire' in 'mbcsToSbcs': dot substituted for <c8>”Warning message in grid.Call.graphics(C_text, as.graphicsAnnot(x$label), x$x, x$y, :\n",
      "“conversion failure on 'C<c8>te d'Ivoire' in 'mbcsToSbcs': dot substituted for <c8>”"
     ]
    },
    {
     "data": {},
     "metadata": {},
     "output_type": "display_data"
    },
    {
     "data": {
      "image/png": "[encoded data removed]",
      "text/plain": [
       "plot without title"
      ]
     },
     "metadata": {},
     "output_type": "display_data"
    }
   ],
   "source": [
    "g2<-ggplot(bottom_10_lit,aes(x=factor(Country,levels=Country),y=LiteracyRate))+\n",
    "geom_bar(stat=\"identity\", width=0.5, fill=\"brown\")+\n",
    "theme(axis.text.x = element_text(angle=90, vjust=0.6))+\n",
    "labs(title=\"Lowest Literacy Rate\", x=\"Country\", y=\"Literacy Rate\") +\n",
    "coord_flip()\n",
    "g2"
   ]
  },
  {
   "cell_type": "markdown",
   "metadata": {},
   "source": [
    "**Mali** has the lowest Literacy Rate."
   ]
  },
  {
   "cell_type": "markdown",
   "metadata": {},
   "source": [
    "### Richest Country in Euorope based in GNI"
   ]
  },
  {
   "cell_type": "code",
   "execution_count": 147,
   "metadata": {},
   "outputs": [
    {
     "data": {
      "text/html": [
       "<table>\n",
       "<thead><tr><th></th><th scope=col>Country</th><th scope=col>GNI</th></tr></thead>\n",
       "<tbody>\n",
       "\t<tr><th scope=row>2</th><td>Albania   </td><td> 8820     </td></tr>\n",
       "\t<tr><th scope=row>8</th><td>Armenia   </td><td> 6100     </td></tr>\n",
       "\t<tr><th scope=row>10</th><td>Austria   </td><td>42050     </td></tr>\n",
       "\t<tr><th scope=row>11</th><td>Azerbaijan</td><td> 8960     </td></tr>\n",
       "\t<tr><th scope=row>16</th><td>Belarus   </td><td>14460     </td></tr>\n",
       "\t<tr><th scope=row>17</th><td>Belgium   </td><td>39190     </td></tr>\n",
       "</tbody>\n",
       "</table>\n"
      ],
      "text/latex": [
       "\\begin{tabular}{r|ll}\n",
       "  & Country & GNI\\\\\n",
       "\\hline\n",
       "\t2 & Albania    &  8820     \\\\\n",
       "\t8 & Armenia    &  6100     \\\\\n",
       "\t10 & Austria    & 42050     \\\\\n",
       "\t11 & Azerbaijan &  8960     \\\\\n",
       "\t16 & Belarus    & 14460     \\\\\n",
       "\t17 & Belgium    & 39190     \\\\\n",
       "\\end{tabular}\n"
      ],
      "text/markdown": [
       "\n",
       "| <!--/--> | Country | GNI | \n",
       "|---|---|---|---|---|---|\n",
       "| 2 | Albania    |  8820      | \n",
       "| 8 | Armenia    |  6100      | \n",
       "| 10 | Austria    | 42050      | \n",
       "| 11 | Azerbaijan |  8960      | \n",
       "| 16 | Belarus    | 14460      | \n",
       "| 17 | Belgium    | 39190      | \n",
       "\n",
       "\n"
      ],
      "text/plain": [
       "   Country    GNI  \n",
       "2  Albania     8820\n",
       "8  Armenia     6100\n",
       "10 Austria    42050\n",
       "11 Azerbaijan  8960\n",
       "16 Belarus    14460\n",
       "17 Belgium    39190"
      ]
     },
     "metadata": {},
     "output_type": "display_data"
    }
   ],
   "source": [
    "who_df_gni = who_df[which(who_df$Region == \"Europe\"),][c('Country', 'GNI')]\n",
    "who_df_gni_nona = who_df_gni[complete.cases(who_df_gni),]\n",
    "head(who_df_gni_nona)"
   ]
  },
  {
   "cell_type": "code",
   "execution_count": 149,
   "metadata": {},
   "outputs": [
    {
     "data": {
      "text/html": [
       "<table>\n",
       "<thead><tr><th></th><th scope=col>Country</th><th scope=col>GNI</th></tr></thead>\n",
       "<tbody>\n",
       "\t<tr><th scope=row>100</th><td>Luxembourg </td><td>64260      </td></tr>\n",
       "\t<tr><th scope=row>127</th><td>Norway     </td><td>61460      </td></tr>\n",
       "\t<tr><th scope=row>168</th><td>Switzerland</td><td>52570      </td></tr>\n",
       "\t<tr><th scope=row>121</th><td>Netherlands</td><td>43140      </td></tr>\n",
       "\t<tr><th scope=row>167</th><td>Sweden     </td><td>42200      </td></tr>\n",
       "\t<tr><th scope=row>10</th><td>Austria    </td><td>42050      </td></tr>\n",
       "\t<tr><th scope=row>49</th><td>Denmark    </td><td>41900      </td></tr>\n",
       "\t<tr><th scope=row>66</th><td>Germany    </td><td>40230      </td></tr>\n",
       "\t<tr><th scope=row>17</th><td>Belgium    </td><td>39190      </td></tr>\n",
       "\t<tr><th scope=row>61</th><td>Finland    </td><td>37670      </td></tr>\n",
       "</tbody>\n",
       "</table>\n"
      ],
      "text/latex": [
       "\\begin{tabular}{r|ll}\n",
       "  & Country & GNI\\\\\n",
       "\\hline\n",
       "\t100 & Luxembourg  & 64260      \\\\\n",
       "\t127 & Norway      & 61460      \\\\\n",
       "\t168 & Switzerland & 52570      \\\\\n",
       "\t121 & Netherlands & 43140      \\\\\n",
       "\t167 & Sweden      & 42200      \\\\\n",
       "\t10 & Austria     & 42050      \\\\\n",
       "\t49 & Denmark     & 41900      \\\\\n",
       "\t66 & Germany     & 40230      \\\\\n",
       "\t17 & Belgium     & 39190      \\\\\n",
       "\t61 & Finland     & 37670      \\\\\n",
       "\\end{tabular}\n"
      ],
      "text/markdown": [
       "\n",
       "| <!--/--> | Country | GNI | \n",
       "|---|---|---|---|---|---|---|---|---|---|\n",
       "| 100 | Luxembourg  | 64260       | \n",
       "| 127 | Norway      | 61460       | \n",
       "| 168 | Switzerland | 52570       | \n",
       "| 121 | Netherlands | 43140       | \n",
       "| 167 | Sweden      | 42200       | \n",
       "| 10 | Austria     | 42050       | \n",
       "| 49 | Denmark     | 41900       | \n",
       "| 66 | Germany     | 40230       | \n",
       "| 17 | Belgium     | 39190       | \n",
       "| 61 | Finland     | 37670       | \n",
       "\n",
       "\n"
      ],
      "text/plain": [
       "    Country     GNI  \n",
       "100 Luxembourg  64260\n",
       "127 Norway      61460\n",
       "168 Switzerland 52570\n",
       "121 Netherlands 43140\n",
       "167 Sweden      42200\n",
       "10  Austria     42050\n",
       "49  Denmark     41900\n",
       "66  Germany     40230\n",
       "17  Belgium     39190\n",
       "61  Finland     37670"
      ]
     },
     "metadata": {},
     "output_type": "display_data"
    }
   ],
   "source": [
    "top_10_gni = head(who_df_gni_nona[order(who_df_gni_nona$GNI, decreasing = TRUE),], 10)\n",
    "top_10_gni"
   ]
  },
  {
   "cell_type": "code",
   "execution_count": 153,
   "metadata": {},
   "outputs": [
    {
     "data": {},
     "metadata": {},
     "output_type": "display_data"
    },
    {
     "data": {
      "image/png": "[encoded data removed]",
      "text/plain": [
       "plot without title"
      ]
     },
     "metadata": {},
     "output_type": "display_data"
    }
   ],
   "source": [
    "g3<-ggplot(top_10_gni,aes(x=factor(Country,levels=Country),y=GNI))+\n",
    "geom_bar(stat=\"identity\", width=0.5, fill=\"darkgreen\")+\n",
    "theme(axis.text.x = element_text(angle=90, vjust=0.6))+\n",
    "labs(title=\"Richest Countries\", x=\"Country\", y=\"GNI\") \n",
    "# coord_flip()\n",
    "g3"
   ]
  },
  {
   "cell_type": "markdown",
   "metadata": {},
   "source": [
    "### Mean life expetancy of countries in Africa"
   ]
  },
  {
   "cell_type": "code",
   "execution_count": 154,
   "metadata": {},
   "outputs": [
    {
     "data": {
      "text/html": [
       "<table>\n",
       "<thead><tr><th></th><th scope=col>Country</th><th scope=col>LifeExpectancy</th></tr></thead>\n",
       "<tbody>\n",
       "\t<tr><th scope=row>3</th><td>Algeria     </td><td>73          </td></tr>\n",
       "\t<tr><th scope=row>5</th><td>Angola      </td><td>51          </td></tr>\n",
       "\t<tr><th scope=row>19</th><td>Benin       </td><td>57          </td></tr>\n",
       "\t<tr><th scope=row>23</th><td>Botswana    </td><td>66          </td></tr>\n",
       "\t<tr><th scope=row>27</th><td>Burkina Faso</td><td>56          </td></tr>\n",
       "\t<tr><th scope=row>28</th><td>Burundi     </td><td>53          </td></tr>\n",
       "</tbody>\n",
       "</table>\n"
      ],
      "text/latex": [
       "\\begin{tabular}{r|ll}\n",
       "  & Country & LifeExpectancy\\\\\n",
       "\\hline\n",
       "\t3 & Algeria      & 73          \\\\\n",
       "\t5 & Angola       & 51          \\\\\n",
       "\t19 & Benin        & 57          \\\\\n",
       "\t23 & Botswana     & 66          \\\\\n",
       "\t27 & Burkina Faso & 56          \\\\\n",
       "\t28 & Burundi      & 53          \\\\\n",
       "\\end{tabular}\n"
      ],
      "text/markdown": [
       "\n",
       "| <!--/--> | Country | LifeExpectancy | \n",
       "|---|---|---|---|---|---|\n",
       "| 3 | Algeria      | 73           | \n",
       "| 5 | Angola       | 51           | \n",
       "| 19 | Benin        | 57           | \n",
       "| 23 | Botswana     | 66           | \n",
       "| 27 | Burkina Faso | 56           | \n",
       "| 28 | Burundi      | 53           | \n",
       "\n",
       "\n"
      ],
      "text/plain": [
       "   Country      LifeExpectancy\n",
       "3  Algeria      73            \n",
       "5  Angola       51            \n",
       "19 Benin        57            \n",
       "23 Botswana     66            \n",
       "27 Burkina Faso 56            \n",
       "28 Burundi      53            "
      ]
     },
     "metadata": {},
     "output_type": "display_data"
    }
   ],
   "source": [
    "who_df_le = who_df[which(who_df$Region == \"Africa\"),][c('Country', 'LifeExpectancy')]\n",
    "who_df_le_nona = who_df_le[complete.cases(who_df_le),]\n",
    "head(who_df_le_nona)"
   ]
  },
  {
   "cell_type": "code",
   "execution_count": 155,
   "metadata": {},
   "outputs": [
    {
     "data": {
      "text/plain": [
       "         Country   LifeExpectancy \n",
       " Algeria     : 1   Min.   :47.00  \n",
       " Angola      : 1   1st Qu.:53.00  \n",
       " Benin       : 1   Median :57.50  \n",
       " Botswana    : 1   Mean   :57.96  \n",
       " Burkina Faso: 1   3rd Qu.:61.00  \n",
       " Burundi     : 1   Max.   :74.00  \n",
       " (Other)     :40                  "
      ]
     },
     "metadata": {},
     "output_type": "display_data"
    }
   ],
   "source": [
    "summary(who_df_le_nona)"
   ]
  },
  {
   "cell_type": "markdown",
   "metadata": {},
   "source": [
    "Mean life expectancy of countries in Africa is **57.96**."
   ]
  },
  {
   "cell_type": "markdown",
   "metadata": {},
   "source": [
    "### Number of countries with population greater than 10,000"
   ]
  },
  {
   "cell_type": "code",
   "execution_count": 162,
   "metadata": {},
   "outputs": [
    {
     "data": {
      "text/html": [
       "86"
      ],
      "text/latex": [
       "86"
      ],
      "text/markdown": [
       "86"
      ],
      "text/plain": [
       "[1] 86"
      ]
     },
     "metadata": {},
     "output_type": "display_data"
    }
   ],
   "source": [
    "dim(who_df[which(who_df$Population > 10000),])[1]"
   ]
  },
  {
   "cell_type": "markdown",
   "metadata": {},
   "source": [
    "There are **86 countries** with population greater than 10000."
   ]
  },
  {
   "cell_type": "markdown",
   "metadata": {},
   "source": [
    "### Top 5 countries in the Americas with the highest child mortality"
   ]
  },
  {
   "cell_type": "code",
   "execution_count": 163,
   "metadata": {},
   "outputs": [
    {
     "data": {
      "text/html": [
       "<table>\n",
       "<thead><tr><th></th><th scope=col>Country</th><th scope=col>ChildMortality</th></tr></thead>\n",
       "<tbody>\n",
       "\t<tr><th scope=row>6</th><td>Antigua and Barbuda             </td><td> 9.9                            </td></tr>\n",
       "\t<tr><th scope=row>7</th><td>Argentina                       </td><td>14.2                            </td></tr>\n",
       "\t<tr><th scope=row>12</th><td>Bahamas                         </td><td>16.9                            </td></tr>\n",
       "\t<tr><th scope=row>15</th><td>Barbados                        </td><td>18.4                            </td></tr>\n",
       "\t<tr><th scope=row>18</th><td>Belize                          </td><td>18.3                            </td></tr>\n",
       "\t<tr><th scope=row>21</th><td>Bolivia (Plurinational State of)</td><td>41.4                            </td></tr>\n",
       "</tbody>\n",
       "</table>\n"
      ],
      "text/latex": [
       "\\begin{tabular}{r|ll}\n",
       "  & Country & ChildMortality\\\\\n",
       "\\hline\n",
       "\t6 & Antigua and Barbuda              &  9.9                            \\\\\n",
       "\t7 & Argentina                        & 14.2                            \\\\\n",
       "\t12 & Bahamas                          & 16.9                            \\\\\n",
       "\t15 & Barbados                         & 18.4                            \\\\\n",
       "\t18 & Belize                           & 18.3                            \\\\\n",
       "\t21 & Bolivia (Plurinational State of) & 41.4                            \\\\\n",
       "\\end{tabular}\n"
      ],
      "text/markdown": [
       "\n",
       "| <!--/--> | Country | ChildMortality | \n",
       "|---|---|---|---|---|---|\n",
       "| 6 | Antigua and Barbuda              |  9.9                             | \n",
       "| 7 | Argentina                        | 14.2                             | \n",
       "| 12 | Bahamas                          | 16.9                             | \n",
       "| 15 | Barbados                         | 18.4                             | \n",
       "| 18 | Belize                           | 18.3                             | \n",
       "| 21 | Bolivia (Plurinational State of) | 41.4                             | \n",
       "\n",
       "\n"
      ],
      "text/plain": [
       "   Country                          ChildMortality\n",
       "6  Antigua and Barbuda               9.9          \n",
       "7  Argentina                        14.2          \n",
       "12 Bahamas                          16.9          \n",
       "15 Barbados                         18.4          \n",
       "18 Belize                           18.3          \n",
       "21 Bolivia (Plurinational State of) 41.4          "
      ]
     },
     "metadata": {},
     "output_type": "display_data"
    }
   ],
   "source": [
    "who_df_cm = who_df[which(who_df$Region == \"Americas\"),][c('Country', 'ChildMortality')]\n",
    "who_df_cm_nona = who_df_cm[complete.cases(who_df_cm),]\n",
    "head(who_df_cm_nona)"
   ]
  },
  {
   "cell_type": "code",
   "execution_count": 165,
   "metadata": {},
   "outputs": [
    {
     "data": {
      "text/html": [
       "<table>\n",
       "<thead><tr><th></th><th scope=col>Country</th><th scope=col>ChildMortality</th></tr></thead>\n",
       "<tbody>\n",
       "\t<tr><th scope=row>74</th><td>Haiti                           </td><td>75.6                            </td></tr>\n",
       "\t<tr><th scope=row>21</th><td>Bolivia (Plurinational State of)</td><td>41.4                            </td></tr>\n",
       "\t<tr><th scope=row>73</th><td>Guyana                          </td><td>35.2                            </td></tr>\n",
       "\t<tr><th scope=row>70</th><td>Guatemala                       </td><td>32.0                            </td></tr>\n",
       "\t<tr><th scope=row>52</th><td>Dominican Republic              </td><td>27.1                            </td></tr>\n",
       "</tbody>\n",
       "</table>\n"
      ],
      "text/latex": [
       "\\begin{tabular}{r|ll}\n",
       "  & Country & ChildMortality\\\\\n",
       "\\hline\n",
       "\t74 & Haiti                            & 75.6                            \\\\\n",
       "\t21 & Bolivia (Plurinational State of) & 41.4                            \\\\\n",
       "\t73 & Guyana                           & 35.2                            \\\\\n",
       "\t70 & Guatemala                        & 32.0                            \\\\\n",
       "\t52 & Dominican Republic               & 27.1                            \\\\\n",
       "\\end{tabular}\n"
      ],
      "text/markdown": [
       "\n",
       "| <!--/--> | Country | ChildMortality | \n",
       "|---|---|---|---|---|\n",
       "| 74 | Haiti                            | 75.6                             | \n",
       "| 21 | Bolivia (Plurinational State of) | 41.4                             | \n",
       "| 73 | Guyana                           | 35.2                             | \n",
       "| 70 | Guatemala                        | 32.0                             | \n",
       "| 52 | Dominican Republic               | 27.1                             | \n",
       "\n",
       "\n"
      ],
      "text/plain": [
       "   Country                          ChildMortality\n",
       "74 Haiti                            75.6          \n",
       "21 Bolivia (Plurinational State of) 41.4          \n",
       "73 Guyana                           35.2          \n",
       "70 Guatemala                        32.0          \n",
       "52 Dominican Republic               27.1          "
      ]
     },
     "metadata": {},
     "output_type": "display_data"
    }
   ],
   "source": [
    "top_10_cm = head(who_df_cm_nona[order(who_df_cm_nona$ChildMortality, decreasing = TRUE),], 5)\n",
    "top_10_cm"
   ]
  },
  {
   "cell_type": "markdown",
   "metadata": {},
   "source": [
    "Listed above are the top 5 countries with the highest child mortality."
   ]
  }
 ],
 "metadata": {
  "kernelspec": {
   "display_name": "R",
   "language": "R",
   "name": "ir"
  },
  "language_info": {
   "codemirror_mode": "r",
   "file_extension": ".r",
   "mimetype": "text/x-r-source",
   "name": "R",
   "pygments_lexer": "r",
   "version": "3.5.1"
  }
 },
 "nbformat": 4,
 "nbformat_minor": 2
}
